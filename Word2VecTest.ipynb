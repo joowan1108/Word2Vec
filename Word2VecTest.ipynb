{
  "nbformat": 4,
  "nbformat_minor": 0,
  "metadata": {
    "colab": {
      "provenance": [],
      "gpuType": "T4",
      "mount_file_id": "1IVzPCiCFh9pelNTqUqfvZ9yeguCxj9Au",
      "authorship_tag": "ABX9TyNBqkwG4v2mrHbaHH465h7b",
      "include_colab_link": true
    },
    "kernelspec": {
      "name": "python3",
      "display_name": "Python 3"
    },
    "language_info": {
      "name": "python"
    },
    "accelerator": "GPU"
  },
  "cells": [
    {
      "cell_type": "markdown",
      "metadata": {
        "id": "view-in-github",
        "colab_type": "text"
      },
      "source": [
        "<a href=\"https://colab.research.google.com/github/joowan1108/Word2Vec/blob/main/Word2VecTest.ipynb\" target=\"_parent\"><img src=\"https://colab.research.google.com/assets/colab-badge.svg\" alt=\"Open In Colab\"/></a>"
      ]
    },
    {
      "cell_type": "code",
      "source": [
        "!pip install torchtext==0.17.0\n",
        "!pip install torch==2.2.0"
      ],
      "metadata": {
        "colab": {
          "base_uri": "https://localhost:8080/"
        },
        "id": "VWqrM5YLIrob",
        "outputId": "7c0ada05-7e73-46fc-a887-c6f8531f8cf7"
      },
      "execution_count": null,
      "outputs": [
        {
          "output_type": "stream",
          "name": "stdout",
          "text": [
            "Requirement already satisfied: torchtext==0.17.0 in /usr/local/lib/python3.10/dist-packages (0.17.0)\n",
            "Requirement already satisfied: tqdm in /usr/local/lib/python3.10/dist-packages (from torchtext==0.17.0) (4.66.5)\n",
            "Requirement already satisfied: requests in /usr/local/lib/python3.10/dist-packages (from torchtext==0.17.0) (2.32.3)\n",
            "Requirement already satisfied: torch==2.2.0 in /usr/local/lib/python3.10/dist-packages (from torchtext==0.17.0) (2.2.0)\n",
            "Requirement already satisfied: numpy in /usr/local/lib/python3.10/dist-packages (from torchtext==0.17.0) (1.26.4)\n",
            "Requirement already satisfied: torchdata==0.7.1 in /usr/local/lib/python3.10/dist-packages (from torchtext==0.17.0) (0.7.1)\n",
            "Requirement already satisfied: filelock in /usr/local/lib/python3.10/dist-packages (from torch==2.2.0->torchtext==0.17.0) (3.16.1)\n",
            "Requirement already satisfied: typing-extensions>=4.8.0 in /usr/local/lib/python3.10/dist-packages (from torch==2.2.0->torchtext==0.17.0) (4.12.2)\n",
            "Requirement already satisfied: sympy in /usr/local/lib/python3.10/dist-packages (from torch==2.2.0->torchtext==0.17.0) (1.13.3)\n",
            "Requirement already satisfied: networkx in /usr/local/lib/python3.10/dist-packages (from torch==2.2.0->torchtext==0.17.0) (3.3)\n",
            "Requirement already satisfied: jinja2 in /usr/local/lib/python3.10/dist-packages (from torch==2.2.0->torchtext==0.17.0) (3.1.4)\n",
            "Requirement already satisfied: fsspec in /usr/local/lib/python3.10/dist-packages (from torch==2.2.0->torchtext==0.17.0) (2024.6.1)\n",
            "Requirement already satisfied: nvidia-cuda-nvrtc-cu12==12.1.105 in /usr/local/lib/python3.10/dist-packages (from torch==2.2.0->torchtext==0.17.0) (12.1.105)\n",
            "Requirement already satisfied: nvidia-cuda-runtime-cu12==12.1.105 in /usr/local/lib/python3.10/dist-packages (from torch==2.2.0->torchtext==0.17.0) (12.1.105)\n",
            "Requirement already satisfied: nvidia-cuda-cupti-cu12==12.1.105 in /usr/local/lib/python3.10/dist-packages (from torch==2.2.0->torchtext==0.17.0) (12.1.105)\n",
            "Requirement already satisfied: nvidia-cudnn-cu12==8.9.2.26 in /usr/local/lib/python3.10/dist-packages (from torch==2.2.0->torchtext==0.17.0) (8.9.2.26)\n",
            "Requirement already satisfied: nvidia-cublas-cu12==12.1.3.1 in /usr/local/lib/python3.10/dist-packages (from torch==2.2.0->torchtext==0.17.0) (12.1.3.1)\n",
            "Requirement already satisfied: nvidia-cufft-cu12==11.0.2.54 in /usr/local/lib/python3.10/dist-packages (from torch==2.2.0->torchtext==0.17.0) (11.0.2.54)\n",
            "Requirement already satisfied: nvidia-curand-cu12==10.3.2.106 in /usr/local/lib/python3.10/dist-packages (from torch==2.2.0->torchtext==0.17.0) (10.3.2.106)\n",
            "Requirement already satisfied: nvidia-cusolver-cu12==11.4.5.107 in /usr/local/lib/python3.10/dist-packages (from torch==2.2.0->torchtext==0.17.0) (11.4.5.107)\n",
            "Requirement already satisfied: nvidia-cusparse-cu12==12.1.0.106 in /usr/local/lib/python3.10/dist-packages (from torch==2.2.0->torchtext==0.17.0) (12.1.0.106)\n",
            "Requirement already satisfied: nvidia-nccl-cu12==2.19.3 in /usr/local/lib/python3.10/dist-packages (from torch==2.2.0->torchtext==0.17.0) (2.19.3)\n",
            "Requirement already satisfied: nvidia-nvtx-cu12==12.1.105 in /usr/local/lib/python3.10/dist-packages (from torch==2.2.0->torchtext==0.17.0) (12.1.105)\n",
            "Requirement already satisfied: triton==2.2.0 in /usr/local/lib/python3.10/dist-packages (from torch==2.2.0->torchtext==0.17.0) (2.2.0)\n",
            "Requirement already satisfied: urllib3>=1.25 in /usr/local/lib/python3.10/dist-packages (from torchdata==0.7.1->torchtext==0.17.0) (2.2.3)\n",
            "Requirement already satisfied: nvidia-nvjitlink-cu12 in /usr/local/lib/python3.10/dist-packages (from nvidia-cusolver-cu12==11.4.5.107->torch==2.2.0->torchtext==0.17.0) (12.6.77)\n",
            "Requirement already satisfied: charset-normalizer<4,>=2 in /usr/local/lib/python3.10/dist-packages (from requests->torchtext==0.17.0) (3.3.2)\n",
            "Requirement already satisfied: idna<4,>=2.5 in /usr/local/lib/python3.10/dist-packages (from requests->torchtext==0.17.0) (3.10)\n",
            "Requirement already satisfied: certifi>=2017.4.17 in /usr/local/lib/python3.10/dist-packages (from requests->torchtext==0.17.0) (2024.8.30)\n",
            "Requirement already satisfied: MarkupSafe>=2.0 in /usr/local/lib/python3.10/dist-packages (from jinja2->torch==2.2.0->torchtext==0.17.0) (2.1.5)\n",
            "Requirement already satisfied: mpmath<1.4,>=1.1.0 in /usr/local/lib/python3.10/dist-packages (from sympy->torch==2.2.0->torchtext==0.17.0) (1.3.0)\n",
            "Requirement already satisfied: torch==2.2.0 in /usr/local/lib/python3.10/dist-packages (2.2.0)\n",
            "Requirement already satisfied: filelock in /usr/local/lib/python3.10/dist-packages (from torch==2.2.0) (3.16.1)\n",
            "Requirement already satisfied: typing-extensions>=4.8.0 in /usr/local/lib/python3.10/dist-packages (from torch==2.2.0) (4.12.2)\n",
            "Requirement already satisfied: sympy in /usr/local/lib/python3.10/dist-packages (from torch==2.2.0) (1.13.3)\n",
            "Requirement already satisfied: networkx in /usr/local/lib/python3.10/dist-packages (from torch==2.2.0) (3.3)\n",
            "Requirement already satisfied: jinja2 in /usr/local/lib/python3.10/dist-packages (from torch==2.2.0) (3.1.4)\n",
            "Requirement already satisfied: fsspec in /usr/local/lib/python3.10/dist-packages (from torch==2.2.0) (2024.6.1)\n",
            "Requirement already satisfied: nvidia-cuda-nvrtc-cu12==12.1.105 in /usr/local/lib/python3.10/dist-packages (from torch==2.2.0) (12.1.105)\n",
            "Requirement already satisfied: nvidia-cuda-runtime-cu12==12.1.105 in /usr/local/lib/python3.10/dist-packages (from torch==2.2.0) (12.1.105)\n",
            "Requirement already satisfied: nvidia-cuda-cupti-cu12==12.1.105 in /usr/local/lib/python3.10/dist-packages (from torch==2.2.0) (12.1.105)\n",
            "Requirement already satisfied: nvidia-cudnn-cu12==8.9.2.26 in /usr/local/lib/python3.10/dist-packages (from torch==2.2.0) (8.9.2.26)\n",
            "Requirement already satisfied: nvidia-cublas-cu12==12.1.3.1 in /usr/local/lib/python3.10/dist-packages (from torch==2.2.0) (12.1.3.1)\n",
            "Requirement already satisfied: nvidia-cufft-cu12==11.0.2.54 in /usr/local/lib/python3.10/dist-packages (from torch==2.2.0) (11.0.2.54)\n",
            "Requirement already satisfied: nvidia-curand-cu12==10.3.2.106 in /usr/local/lib/python3.10/dist-packages (from torch==2.2.0) (10.3.2.106)\n",
            "Requirement already satisfied: nvidia-cusolver-cu12==11.4.5.107 in /usr/local/lib/python3.10/dist-packages (from torch==2.2.0) (11.4.5.107)\n",
            "Requirement already satisfied: nvidia-cusparse-cu12==12.1.0.106 in /usr/local/lib/python3.10/dist-packages (from torch==2.2.0) (12.1.0.106)\n",
            "Requirement already satisfied: nvidia-nccl-cu12==2.19.3 in /usr/local/lib/python3.10/dist-packages (from torch==2.2.0) (2.19.3)\n",
            "Requirement already satisfied: nvidia-nvtx-cu12==12.1.105 in /usr/local/lib/python3.10/dist-packages (from torch==2.2.0) (12.1.105)\n",
            "Requirement already satisfied: triton==2.2.0 in /usr/local/lib/python3.10/dist-packages (from torch==2.2.0) (2.2.0)\n",
            "Requirement already satisfied: nvidia-nvjitlink-cu12 in /usr/local/lib/python3.10/dist-packages (from nvidia-cusolver-cu12==11.4.5.107->torch==2.2.0) (12.6.77)\n",
            "Requirement already satisfied: MarkupSafe>=2.0 in /usr/local/lib/python3.10/dist-packages (from jinja2->torch==2.2.0) (2.1.5)\n",
            "Requirement already satisfied: mpmath<1.4,>=1.1.0 in /usr/local/lib/python3.10/dist-packages (from sympy->torch==2.2.0) (1.3.0)\n"
          ]
        }
      ]
    },
    {
      "cell_type": "code",
      "source": [
        "from google.colab import drive\n",
        "drive.mount('/content/drive')"
      ],
      "metadata": {
        "id": "kpkSkrZYbKeo"
      },
      "execution_count": null,
      "outputs": []
    },
    {
      "cell_type": "code",
      "source": [
        "!pip install 'portalocker>=2.0.0'"
      ],
      "metadata": {
        "colab": {
          "base_uri": "https://localhost:8080/"
        },
        "id": "KhvMKsuMQ-9X",
        "outputId": "4408636b-e8f9-48bc-90f4-308dbfbbca42"
      },
      "execution_count": null,
      "outputs": [
        {
          "output_type": "stream",
          "name": "stdout",
          "text": [
            "Requirement already satisfied: portalocker>=2.0.0 in /usr/local/lib/python3.10/dist-packages (2.10.1)\n"
          ]
        }
      ]
    },
    {
      "cell_type": "code",
      "source": [
        "!python3 /content/drive/MyDrive/LLM/Word2Vec/train.py --config /content/drive/MyDrive/LLM/Word2Vec/config.yaml"
      ],
      "metadata": {
        "id": "16OXrYzZ6hp0",
        "colab": {
          "base_uri": "https://localhost:8080/"
        },
        "outputId": "6166253c-6478-472b-e3f8-3ab705c2de6f"
      },
      "execution_count": null,
      "outputs": [
        {
          "output_type": "stream",
          "name": "stdout",
          "text": [
            "Vocabulary size: 1980\n",
            "Epoch: 1/20, Train Loss=5.28660, Val Loss=5.19919\n",
            "Epoch: 2/20, Train Loss=5.16724, Val Loss=5.15734\n",
            "Epoch: 3/20, Train Loss=5.14060, Val Loss=5.15378\n",
            "Epoch: 4/20, Train Loss=5.13297, Val Loss=5.15552\n",
            "Epoch: 5/20, Train Loss=5.12819, Val Loss=5.15686\n",
            "Epoch: 6/20, Train Loss=5.12475, Val Loss=5.14903\n",
            "Epoch: 7/20, Train Loss=5.11986, Val Loss=5.14419\n",
            "Epoch: 8/20, Train Loss=5.11523, Val Loss=5.13924\n",
            "Epoch: 9/20, Train Loss=5.11021, Val Loss=5.13653\n",
            "Epoch: 10/20, Train Loss=5.10366, Val Loss=5.13615\n",
            "Epoch: 11/20, Train Loss=5.09638, Val Loss=5.13941\n",
            "Epoch: 12/20, Train Loss=5.09030, Val Loss=5.12035\n",
            "Epoch: 13/20, Train Loss=5.08287, Val Loss=5.12824\n",
            "Epoch: 14/20, Train Loss=5.07487, Val Loss=5.12471\n",
            "Epoch: 15/20, Train Loss=5.06562, Val Loss=5.11480\n",
            "Epoch: 16/20, Train Loss=5.05466, Val Loss=5.11645\n",
            "Epoch: 17/20, Train Loss=5.04303, Val Loss=5.11075\n",
            "Epoch: 18/20, Train Loss=5.02916, Val Loss=5.11445\n",
            "Epoch: 19/20, Train Loss=5.01316, Val Loss=5.07166\n",
            "Epoch: 20/20, Train Loss=4.99466, Val Loss=5.09061\n",
            "Training finished.\n",
            "Model artifacts saved to folder: /content/drive/MyDrive/LLM/Word2Vec/weights/skipgram_PennTreebank\n"
          ]
        }
      ]
    },
    {
      "cell_type": "code",
      "source": [
        "import numpy as np\n",
        "import pandas as pd\n",
        "import torch\n",
        "import sys\n",
        "from sklearn.manifold import TSNE\n",
        "import plotly.graph_objects as go"
      ],
      "metadata": {
        "id": "dDbJXNgx2nb5"
      },
      "execution_count": null,
      "outputs": []
    },
    {
      "cell_type": "code",
      "source": [
        "%cd /content/drive/MyDrive/LLM/Word2Vec"
      ],
      "metadata": {
        "colab": {
          "base_uri": "https://localhost:8080/"
        },
        "id": "ZshS8LhlY2eu",
        "outputId": "29e5cb34-831b-4364-ec75-e96bcb4a8e3b"
      },
      "execution_count": null,
      "outputs": [
        {
          "output_type": "stream",
          "name": "stdout",
          "text": [
            "/content/drive/MyDrive/LLM/Word2Vec\n"
          ]
        }
      ]
    },
    {
      "cell_type": "code",
      "source": [
        "device = torch.device(\"cuda\" if torch.cuda.is_available() else \"cpu\")\n",
        "model = torch.load(\"weights/skipgram_PennTreebank/model.pt\", map_location=device)\n",
        "vocab = torch.load(\"weights/skipgram_PennTreebank/vocab.pt\")"
      ],
      "metadata": {
        "id": "ICkTj0EQ2qPN"
      },
      "execution_count": null,
      "outputs": []
    },
    {
      "cell_type": "code",
      "source": [
        "# embedding from first model layer\n",
        "embeddings = list(model.parameters())[0]\n",
        "embeddings = embeddings.cpu().detach().numpy() #embeddings는 각 vocab의 word embedding을 가짐\n",
        "\n",
        "# L2 normalization\n",
        "norms = (embeddings ** 2).sum(axis=1) ** (1 / 2)\n",
        "norms = np.reshape(norms, (len(norms), 1))\n",
        "embeddings_norm = embeddings / norms\n",
        "embeddings_norm.shape\n"
      ],
      "metadata": {
        "colab": {
          "base_uri": "https://localhost:8080/"
        },
        "id": "-Xzbzm5hglZS",
        "outputId": "d1f70f74-684a-4fe3-ea16-ba46c5fa8e0d"
      },
      "execution_count": null,
      "outputs": [
        {
          "output_type": "execute_result",
          "data": {
            "text/plain": [
              "(1980, 300)"
            ]
          },
          "metadata": {},
          "execution_count": 49
        }
      ]
    },
    {
      "cell_type": "code",
      "source": [
        "embeddings_df = pd.DataFrame(embeddings)\n",
        "\n",
        "# t-SNE transform\n",
        "tsne = TSNE(n_components=2) #high dimension --> 2d\n",
        "embeddings_df_trans = tsne.fit_transform(embeddings_df)\n",
        "embeddings_df_trans = pd.DataFrame(embeddings_df_trans)\n",
        "\n",
        "# get token order\n",
        "embeddings_df_trans.index = vocab.get_itos()\n",
        "\n",
        "# if token is a number\n",
        "is_numeric = embeddings_df_trans.index.str.isnumeric()"
      ],
      "metadata": {
        "id": "-XU_HOZpgu4Q"
      },
      "execution_count": null,
      "outputs": []
    },
    {
      "cell_type": "code",
      "source": [
        "color = np.where(is_numeric, \"green\", \"black\")\n",
        "fig = go.Figure()\n",
        "\n",
        "fig.add_trace(\n",
        "    go.Scatter(\n",
        "        x=embeddings_df_trans[0],\n",
        "        y=embeddings_df_trans[1],\n",
        "        mode=\"text\",\n",
        "        text=embeddings_df_trans.index,\n",
        "        textposition=\"middle center\",\n",
        "        textfont=dict(color=color),\n",
        "    )\n",
        ")\n",
        "fig.write_html(\"/content/drive/MyDrive/LLM/Word2Vec/word2vec_visualization.html\")"
      ],
      "metadata": {
        "id": "1w21GwhJgyo_"
      },
      "execution_count": null,
      "outputs": []
    },
    {
      "cell_type": "code",
      "source": [
        "def get_top_similar(word: str, topN: int = 10):\n",
        "    word_id = vocab[word]\n",
        "    if word_id == 0:\n",
        "        print(\"Out of vocabulary word\")\n",
        "        return\n",
        "\n",
        "    #거리로 vector similarity 계산\n",
        "    word_vec = embeddings_norm[word_id]\n",
        "    word_vec = np.reshape(word_vec, (len(word_vec), 1)) #column vector로 변환\n",
        "    dists = np.matmul(embeddings_norm, word_vec).flatten() #다른 단어들과의 cosine similarity 계산\n",
        "    topN_ids = np.argsort(-dists)[1 : topN + 1] #자기 자신을 제외한 나머지를 cosine 값 낮은 순으로 정렬 == 낮을수록 similarity 큼\n",
        "\n",
        "    topN_dict = {}\n",
        "    for sim_word_id in topN_ids:\n",
        "        sim_word = vocab.lookup_token(sim_word_id)\n",
        "        topN_dict[sim_word] = dists[sim_word_id]\n",
        "    return topN_dict"
      ],
      "metadata": {
        "id": "0TB8svJFiJ9_"
      },
      "execution_count": null,
      "outputs": []
    },
    {
      "cell_type": "code",
      "source": [
        "for word, sim in get_top_similar(\"know\").items():\n",
        "    print(\"{}: {:.3f}\".format(word, sim))"
      ],
      "metadata": {
        "colab": {
          "base_uri": "https://localhost:8080/"
        },
        "id": "gbYYFA_siKkg",
        "outputId": "f3011549-a333-4566-9fbe-aa68312bc9fb"
      },
      "execution_count": null,
      "outputs": [
        {
          "output_type": "stream",
          "name": "stdout",
          "text": [
            "think: 0.492\n",
            "really: 0.410\n",
            "tell: 0.408\n",
            "you: 0.397\n",
            "certainly: 0.348\n",
            "sure: 0.345\n",
            "want: 0.343\n",
            "feel: 0.337\n",
            "ca: 0.334\n",
            "matter: 0.330\n"
          ]
        }
      ]
    },
    {
      "cell_type": "code",
      "source": [
        "emb1 = embeddings[vocab[\"king\"]]\n",
        "emb2 = embeddings[vocab[\"man\"]]\n",
        "emb3 = embeddings[vocab[\"woman\"]]\n",
        "\n",
        "emb4 = emb1 - emb2 + emb3\n",
        "emb4_norm = (emb4 ** 2).sum() ** (1 / 2)\n",
        "emb4 = emb4 / emb4_norm\n",
        "\n",
        "emb4 = np.reshape(emb4, (len(emb4), 1))\n",
        "dists = np.matmul(embeddings_norm, emb4).flatten()\n",
        "\n",
        "top5 = np.argsort(-dists)[:5]\n",
        "\n",
        "for word_id in top5:\n",
        "    print(\"{}: {:.3f}\".format(vocab.lookup_token(word_id), dists[word_id]))"
      ],
      "metadata": {
        "colab": {
          "base_uri": "https://localhost:8080/"
        },
        "id": "kcc6i3nHiXod",
        "outputId": "bdd58188-61ca-45f1-8bba-44c16d2140ff"
      },
      "execution_count": null,
      "outputs": [
        {
          "output_type": "stream",
          "name": "stdout",
          "text": [
            "woman: 0.589\n",
            "thatcher: 0.201\n",
            "<unk>: 0.198\n",
            "hopes: 0.182\n",
            "cases: 0.179\n"
          ]
        }
      ]
    }
  ]
}